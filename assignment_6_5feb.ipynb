{
 "cells": [
  {
   "cell_type": "code",
   "execution_count": 6,
   "id": "cec9dfed",
   "metadata": {},
   "outputs": [
    {
     "name": "stdout",
     "output_type": "stream",
     "text": [
      "240\n",
      "mahindra\n"
     ]
    }
   ],
   "source": [
    "#1)Explain Class and Object with respect to Object-Oriented Programming.\n",
    "#Give a suitable example\n",
    "\n",
    "## class is just classification , charactorisation of real world entity.\n",
    "#In object-oriented programming (OOP), a class is a blueprint or template that\n",
    "#defines the properties (attributes) and behaviors (methods) of objects that \n",
    "#belong to that class. It provides a way to create objects, which are instances\n",
    "#of the class, with their own unique set of attributes and behaviors.\n",
    "\n",
    "# An object, on the other hand, is a specific instance of a class. It represents\n",
    "#a real-world entity or concept that can be manipulated and interacted with in a\n",
    "#program. Objects have their own state (attribute values) and behavior (method \n",
    "#implementations) based on the class they belong to.\n",
    "\n",
    "class car:\n",
    "    def __init__(self,brand,price,t_speed):\n",
    "        self.brand = brand\n",
    "        self.price =price\n",
    "        self.t_speed=t_speed\n",
    " \n",
    "\n",
    "#creatting object ofclass car\n",
    "car1=car(\"tesla\",3250400,240)\n",
    "car2=car(\"mahindra\",1205800,180)\n",
    "\n",
    "print(car1.t_speed)\n",
    "print(car2.brand)\n"
   ]
  },
  {
   "cell_type": "markdown",
   "id": "cee90ec4",
   "metadata": {},
   "source": [
    "#2)Name the four pillars of OOPs.\n",
    "\n",
    "#1]Encapsulation: \n",
    "it is the principle of bundling data(attributes) and methods(behaviors) \n",
    "together within a class. It involves hiding the internal implementation details\n",
    "of an object and providing a public interface to interact with it. Encapsulation\n",
    "helps achieve data abstraction and ensures that the object's state is accessed\n",
    "and modified through controlled methods, promoting data integrity and security.\n",
    "\n",
    "#2]Inheritance: Inheritance is a mechanism that allows a class to inherit \n",
    "properties and behaviors from another class. It enables the creation of hierarchical\n",
    "relationships between classes, where a derived class (subclass) can inherit the \n",
    "attributes and methods of a base class (superclass). This promotes code reuse and\n",
    "enables the modeling of an \"is-a\" relationship between objects. Inheritance also\n",
    "supports polymorphism, which allows objects of different classes to be treated as\n",
    "objects of a common base class.\n",
    "\n",
    "#3]Polymorphism: Polymorphism refers to the ability of objects of different lasses to respond to the same message (method call) in different ways. It allows for the use of a single interface to represent different types of objects. Polymorphism is achieved through method overriding and method overloading. Method overriding allows a subclass to provide its own implementation of a method defined in its superclass, while method overloading allows multiple methods with the same name but different parameters to be defined in a class.\n",
    "\n",
    "#4] Abstraction: Abstraction is the process of representing complex real-world entities or concepts in a simplified manner. It involves capturing only the essential characteristics and behavior of an object, while hiding the irrelevant details. Abstraction allows the creation of abstract classes and interfaces that define a common structure and behavior for a group of related objects. It helps in managing the complexity of a system, promotes modularity, and facilitates code maintenance and reusability.\n"
   ]
  },
  {
   "cell_type": "code",
   "execution_count": 9,
   "id": "44ae8ce5",
   "metadata": {},
   "outputs": [],
   "source": [
    "#3)Explain why the __init__() function is used. Give a suitable example\n",
    "#The __init__() function is a special method in Python classes that is \n",
    "#automatically called when an object is created from the class. It is used to \n",
    "#initialize the attributes of the object and perform any necessary setup or \n",
    "#initialization tasks.\n",
    "\n",
    "#The primary purpose of the __init__() method is to set the initial state of \n",
    "#the object by assigning values to its attributes. It allows us to provide \n",
    "#initial values for the object's attributes based on arguments passed during \n",
    "#object creation. \n",
    "\n",
    "class phone:\n",
    "    def __init__(self,brand,price,color):\n",
    "        self.brand = brand\n",
    "        self.price =price\n",
    "        self.color=color\n",
    " \n"
   ]
  },
  {
   "cell_type": "code",
   "execution_count": 11,
   "id": "dd983d88",
   "metadata": {},
   "outputs": [],
   "source": [
    "#Q4. Why self is used in OOPs\n",
    "\n",
    "#In object-oriented programming (OOP), self is a conventional name used to \n",
    "#refer to the instance of a class within the class methods. It acts as a reference\n",
    "#to the current object being manipulated or accessed. When a method is called \n",
    "#on an object, self is implicitly passed as the first argument to that method.\n",
    "\n",
    "#1]Accessing instance variables: self allows access to the instance variables\n",
    "#of an object within its methods. By using self, you can refer to and \n",
    "#manipulate the specific instance variables of the object.\n",
    "\n",
    "#2]Invoking other methods: self is used to invoke other methods within a class.\n",
    "#It helps in calling other methods of the object, allowing them to interact and\n",
    "#collaborate with each other.\n",
    "\n",
    "#3]Differentiating between instance and local variables: The use of self helps \n",
    "#in differentiating between instance variables and local variables within a \n",
    "#class. Instance variables are accessed using self.variable_name, while local \n",
    "#variables are accessed directly by their name. \n",
    "\n",
    "#4]Supporting object-oriented concepts: self is crucial for implementing concepts\n",
    "#like encapsulation, inheritance, and polymorphism in OOP. It helps in \n",
    "#maintaining the state of an object, distinguishing between the superclass and \n",
    "#subclass methods, and facilitating polymorphic behavior by allowing objects of \n",
    "#different classes to be treated uniformly.\n",
    "\n"
   ]
  },
  {
   "cell_type": "code",
   "execution_count": 13,
   "id": "07fe775b",
   "metadata": {},
   "outputs": [
    {
     "name": "stdout",
     "output_type": "stream",
     "text": [
      "dog is barking\n",
      "animal is eatting\n"
     ]
    }
   ],
   "source": [
    "#5. What is inheritance? Give an example for each type of inheritance.\n",
    "\n",
    "#Inheritance is a fundamental concept in object-oriented programming (OOP) that \n",
    "#allows a class to inherit properties and behaviors from another class. The \n",
    "#class that inherits is called the derived class or subclass, and the class \n",
    "#being inherited from is called the base class or superclass. Inheritance \n",
    "#enables code reuse, promotes modularity, and supports the \"is-a\" relationship \n",
    "#between classes.\n",
    "\n",
    "#Single Inheritance: \n",
    "#Single inheritance refers to a scenario where a subclass inherits from a single\n",
    "#base class. It represents a one-to-one inheritance relationship. \n",
    "\n",
    "class animal:\n",
    "    def eat(self):\n",
    "        print(\"animal is eatting\")\n",
    "\n",
    "class Dog(animal):\n",
    "    def bark(self):\n",
    "        print(\"dog is barking\")\n",
    "dog = Dog()\n",
    "dog.bark()\n",
    "dog.eat()"
   ]
  },
  {
   "cell_type": "code",
   "execution_count": 18,
   "id": "897be61a",
   "metadata": {},
   "outputs": [
    {
     "name": "stdout",
     "output_type": "stream",
     "text": [
      "i am player\n",
      "arena is one of map in pubg\n"
     ]
    }
   ],
   "source": [
    "#Multiple Inheritance: \n",
    "#Multiple inheritance occurs when a subclass inherits from multiple base classes.\n",
    "#It allows a class to inherit attributes and methods from multiple sources. \n",
    "\n",
    "class player:\n",
    "    def play(self):\n",
    "        print(\"i am player\")\n",
    "\n",
    "class pubg:\n",
    "    def arena(self):\n",
    "        print(\"arena is one of map in pubg\")\n",
    "        \n",
    "class pubgplayer(player,pubg):\n",
    "    pass\n",
    "\n",
    "shivam = pubgplayer()\n",
    "shivam.play()\n",
    "shivam.arena()\n",
    "\n"
   ]
  },
  {
   "cell_type": "code",
   "execution_count": 19,
   "id": "7cde5924",
   "metadata": {},
   "outputs": [
    {
     "name": "stdout",
     "output_type": "stream",
     "text": [
      "The animal is eating.\n",
      "The dog is barking.\n",
      "The bulldog is guarding.\n"
     ]
    }
   ],
   "source": [
    "#3] Multilevel Inheritance: Multilevel inheritance refers to a scenario where a \n",
    "#derived class inherits from another derived class. It forms a parent-child \n",
    "#relationship between classes. \n",
    "\n",
    "class Animal:\n",
    "    def eat(self):\n",
    "        print(\"The animal is eating.\")\n",
    "\n",
    "class Dog(Animal):\n",
    "    def bark(self):\n",
    "        print(\"The dog is barking.\")\n",
    "\n",
    "class Bulldog(Dog):\n",
    "    def guard(self):\n",
    "        print(\"The bulldog is guarding.\")\n",
    "\n",
    "# Creating an instance of the derived class\n",
    "bulldog = Bulldog()\n",
    "\n",
    "# Calling methods from all the parent classes\n",
    "bulldog.eat()    \n",
    "bulldog.bark()   \n",
    "bulldog.guard()  \n"
   ]
  },
  {
   "cell_type": "code",
   "execution_count": null,
   "id": "7c603be7",
   "metadata": {},
   "outputs": [],
   "source": []
  }
 ],
 "metadata": {
  "kernelspec": {
   "display_name": "Python 3 (ipykernel)",
   "language": "python",
   "name": "python3"
  },
  "language_info": {
   "codemirror_mode": {
    "name": "ipython",
    "version": 3
   },
   "file_extension": ".py",
   "mimetype": "text/x-python",
   "name": "python",
   "nbconvert_exporter": "python",
   "pygments_lexer": "ipython3",
   "version": "3.9.13"
  }
 },
 "nbformat": 4,
 "nbformat_minor": 5
}
