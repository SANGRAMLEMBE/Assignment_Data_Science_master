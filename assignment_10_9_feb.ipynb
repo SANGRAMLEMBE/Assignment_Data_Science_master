{
 "cells": [
  {
   "cell_type": "code",
   "execution_count": 1,
   "id": "0315ab1b",
   "metadata": {},
   "outputs": [],
   "source": [
    "class Vehicle:\n",
    "    def __init__(self, name_of_vehicle, max_speed, average_speed):\n",
    "        self.name_of_vehicle = name_of_vehicle\n",
    "        self.max_speed = max_speed\n",
    "        self.average_speed = average_speed\n"
   ]
  },
  {
   "cell_type": "code",
   "execution_count": 10,
   "id": "ff8fe9f8",
   "metadata": {},
   "outputs": [
    {
     "name": "stdout",
     "output_type": "stream",
     "text": [
      "Car\n",
      "200\n",
      "80\n"
     ]
    }
   ],
   "source": [
    "# Create a Vehicle instance\n",
    "car = Vehicle(\"Car\", 200, 80)\n",
    "\n",
    "# Access instance variables\n",
    "print(car.name_of_vehicle)     # Output: Car\n",
    "print(car.max_speed)           # Output: 200\n",
    "print(car.average_speed)       # Output: 80\n"
   ]
  },
  {
   "cell_type": "code",
   "execution_count": 11,
   "id": "b0a334fa",
   "metadata": {},
   "outputs": [],
   "source": [
    "class Car(Vehicle):\n",
    "    def seating_capacity(self, capacity):\n",
    "        return f\"The {self.name_of_vehicle} has a seating capacity of {capacity} people.\"\n"
   ]
  },
  {
   "cell_type": "code",
   "execution_count": 12,
   "id": "f60abbcd",
   "metadata": {},
   "outputs": [
    {
     "name": "stdout",
     "output_type": "stream",
     "text": [
      "The Car has a seating capacity of 4 people.\n"
     ]
    }
   ],
   "source": [
    "# Create a Car instance\n",
    "car = Car(\"Car\", 200, 80)\n",
    "\n",
    "# Call the seating_capacity method\n",
    "capacity = 4\n",
    "result = car.seating_capacity(capacity)\n",
    "\n",
    "# Print the result\n",
    "print(result)  # Output: The Car has a seating capacity of 4 people.\n"
   ]
  },
  {
   "cell_type": "code",
   "execution_count": 8,
   "id": "17b01ce7",
   "metadata": {},
   "outputs": [],
   "source": [
    "# What is multiple inheritance? Write a python code to demonstrate\n",
    "#multiple inheritance\n",
    "\n",
    "#Multiple inheritance is a feature in object-oriented programming where a class \n",
    "#can inherit attributes and methods from multiple parent classes. This means \n",
    "#that a child class can inherit from more than one parent class, allowing it to\n",
    "#access and use the attributes and methods defined in each parent class.\n",
    "\n",
    "\n",
    "class car:\n",
    "    def bmw(self):\n",
    "        print(\"THIS IS CAR CLASS\")\n",
    "        \n",
    "class bike:\n",
    "    def appache(self):\n",
    "        print(\"THIS IS BIKE CLASS\")\n",
    "        \n",
    "class vehicle(car,bike):\n",
    "    def vehicle_info(self):\n",
    "        print(\"THIS IS VEHICLE CLASS\")\n",
    "        \n",
    "        "
   ]
  },
  {
   "cell_type": "code",
   "execution_count": 9,
   "id": "ccd19606",
   "metadata": {},
   "outputs": [],
   "source": [
    "a = vehicle()"
   ]
  },
  {
   "cell_type": "code",
   "execution_count": 11,
   "id": "d1f5052f",
   "metadata": {},
   "outputs": [
    {
     "name": "stdout",
     "output_type": "stream",
     "text": [
      "THIS IS BIKE CLASS\n"
     ]
    }
   ],
   "source": [
    "a.appache()"
   ]
  },
  {
   "cell_type": "code",
   "execution_count": 12,
   "id": "b1ac91bc",
   "metadata": {},
   "outputs": [
    {
     "name": "stdout",
     "output_type": "stream",
     "text": [
      "THIS IS CAR CLASS\n"
     ]
    }
   ],
   "source": [
    "a.bmw()"
   ]
  },
  {
   "cell_type": "code",
   "execution_count": 13,
   "id": "d4bc2d2e",
   "metadata": {},
   "outputs": [
    {
     "name": "stdout",
     "output_type": "stream",
     "text": [
      "THIS IS VEHICLE CLASS\n"
     ]
    }
   ],
   "source": [
    "a.vehicle_info()"
   ]
  },
  {
   "cell_type": "code",
   "execution_count": 14,
   "id": "b71b02df",
   "metadata": {},
   "outputs": [
    {
     "data": {
      "text/plain": [
       "'A getter method, also known as an accessor method, is used to retrieve the \\nvalue of an attribute. It is typically defined with the prefix \"get\" followed \\nby the attribute name. Getter methods do not modify the attribute value but \\ninstead provide read-only access to it.\\n\\nA setter method, also known as a mutator method, is used to modify the value \\nof an attribute. It is typically defined with the prefix \"set\" followed by the \\nattribute name. Setter methods allow for controlled modification of attribute \\nvalues by performing any necessary validation or logic before assigning the \\nnew value.'"
      ]
     },
     "execution_count": 14,
     "metadata": {},
     "output_type": "execute_result"
    }
   ],
   "source": [
    "#What are getter and setter in python? Create a class and create a getter \n",
    "#and a setter method in this class.\n",
    "\n",
    "#In Python, getter and setter methods are used to access and modify the values \n",
    "#of class attributes. They provide a way to encapsulate the access and \n",
    "#modification of attribute values, allowing for better control over the \n",
    "#attributes.\n",
    "\n",
    "'''A getter method, also known as an accessor method, is used to retrieve the \n",
    "value of an attribute. It is typically defined with the prefix \"get\" followed \n",
    "by the attribute name. Getter methods do not modify the attribute value but \n",
    "instead provide read-only access to it.\n",
    "\n",
    "A setter method, also known as a mutator method, is used to modify the value \n",
    "of an attribute. It is typically defined with the prefix \"set\" followed by the \n",
    "attribute name. Setter methods allow for controlled modification of attribute \n",
    "values by performing any necessary validation or logic before assigning the \n",
    "new value.'''"
   ]
  },
  {
   "cell_type": "code",
   "execution_count": 20,
   "id": "4c9820f5",
   "metadata": {},
   "outputs": [
    {
     "name": "stdout",
     "output_type": "stream",
     "text": [
      "mauli\n",
      "sangram\n"
     ]
    }
   ],
   "source": [
    "class person:\n",
    "    def __init__(self , name):\n",
    "        self._name = name\n",
    "        \n",
    "    def get_name(self):\n",
    "        return self._name \n",
    "    \n",
    "    def set_name(self,name):\n",
    "        self._name = name\n",
    "    \n",
    "# create an instance of person class\n",
    "human = person(\"mauli\")\n",
    "\n",
    "#get the name using the getter method\n",
    "name = human.get_name()\n",
    "print(name)\n",
    "\n",
    "#set a new name using the setter method\n",
    "human.set_name(\"sangram\")\n",
    "\n",
    "#get the updated name\n",
    "name = human.get_name()\n",
    "print(name)"
   ]
  },
  {
   "cell_type": "code",
   "execution_count": null,
   "id": "d81164b1",
   "metadata": {},
   "outputs": [],
   "source": [
    "#Q5.What is method overriding in python? Write a python code to demonstrate\n",
    "#method overriding.\n",
    "\n",
    "'''\n",
    "Method overriding is an ability of any object-oriented programming language \n",
    "that allows a subclass or child class to provide a specific implementation of \n",
    "a method that is already provided by one of its super-classes or parent classes.\n",
    "When a method in a subclass has the same name, same parameters or signature and\n",
    "same return type(or sub-type) as a method in its super-class, then the method in\n",
    "the subclass is said to override the method in the super-class.'''"
   ]
  },
  {
   "cell_type": "code",
   "execution_count": 21,
   "id": "b298c55c",
   "metadata": {},
   "outputs": [
    {
     "name": "stdout",
     "output_type": "stream",
     "text": [
      "Inside Parent\n",
      "Inside Child\n"
     ]
    }
   ],
   "source": [
    "# method overriding\n",
    "# Defining parent class\n",
    "class Parent():\n",
    "      \n",
    "    # Constructor\n",
    "    def __init__(self):\n",
    "        self.value = \"Inside Parent\"\n",
    "                                                     \n",
    "    def show(self):           # Parent's show method\n",
    "        print(self.value)\n",
    "          \n",
    "# Defining child class\n",
    "class Child(Parent):\n",
    "      \n",
    "    # Constructor\n",
    "    def __init__(self):\n",
    "        self.value = \"Inside Child\"\n",
    "          \n",
    "    def show(self):            # Child's show method\n",
    "        print(self.value)\n",
    "          \n",
    "# Driver's code\n",
    "obj1 = Parent()\n",
    "obj2 = Child()\n",
    "  \n",
    "obj1.show()\n",
    "obj2.show()"
   ]
  },
  {
   "cell_type": "code",
   "execution_count": null,
   "id": "d1b45138",
   "metadata": {},
   "outputs": [],
   "source": []
  }
 ],
 "metadata": {
  "kernelspec": {
   "display_name": "Python 3 (ipykernel)",
   "language": "python",
   "name": "python3"
  },
  "language_info": {
   "codemirror_mode": {
    "name": "ipython",
    "version": 3
   },
   "file_extension": ".py",
   "mimetype": "text/x-python",
   "name": "python",
   "nbconvert_exporter": "python",
   "pygments_lexer": "ipython3",
   "version": "3.9.13"
  }
 },
 "nbformat": 4,
 "nbformat_minor": 5
}
