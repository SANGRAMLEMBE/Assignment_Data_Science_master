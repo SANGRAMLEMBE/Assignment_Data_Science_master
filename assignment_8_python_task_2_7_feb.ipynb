{
 "cells": [
  {
   "cell_type": "code",
   "execution_count": 19,
   "id": "1d15f45a",
   "metadata": {},
   "outputs": [],
   "source": [
    "''' \n",
    "Q1. You are writing code for a company. The requirement of the company is that you create a python \n",
    "function that will check whether the password entered by the user is correct or not. The function should \n",
    "take the password as input and return the string “Valid Password” if the entered password follows the \n",
    "below-given password guidelines else it should return “Invalid Password”.\n",
    "\n",
    "\n",
    "Note: 1. The Password should contain at least two uppercase letters and at least two lowercase letters.\n",
    "\n",
    "2. The Password should contain at least a number and three special characters.\n",
    "\n",
    "3. The length of the password should be 10 characters long''' \n",
    "\n",
    "def check_password(password):\n",
    "    if len(password)!=10:\n",
    "        print(\"INVALIED PASSWORD\")\n",
    "        \n",
    "    uppercase_count = 0\n",
    "    lowercase_count = 0\n",
    "    number_count = 0\n",
    "    special_count = 0\n",
    "    \n",
    "\n",
    "    \n",
    "    for char in password:\n",
    "        if char.isupper():\n",
    "            uppercase_count+=1\n",
    "            \n",
    "        elif char.islower():\n",
    "            lowercase_count+= 1\n",
    "        \n",
    "        elif char.isdigit():\n",
    "            number_count+= 1\n",
    "        \n",
    "        elif char.isalnum():\n",
    "            special_count+=1\n",
    "    \n",
    "    if uppercase_count>=2 and lowercase_count>=2 and number_count>=1 and special_count>=3:\n",
    "        return \"VALIED PASSWORD\"\n",
    "    \n",
    "    else:\n",
    "        return \"INVALIED PASSWORD  \"\n",
    "    \n",
    "    \n"
   ]
  },
  {
   "cell_type": "code",
   "execution_count": 20,
   "id": "26082033",
   "metadata": {},
   "outputs": [
    {
     "name": "stdout",
     "output_type": "stream",
     "text": [
      "ENTER PASSWORD\n",
      "INVALIED PASSWORD\n",
      "INVALIED PASSWORD  \n"
     ]
    }
   ],
   "source": [
    "password=input(\"ENTER PASSWORD\")  \n",
    "result = check_password(password)\n",
    "print(result)"
   ]
  },
  {
   "cell_type": "code",
   "execution_count": 25,
   "id": "9e30d64a",
   "metadata": {},
   "outputs": [],
   "source": [
    "#Q2. Solve the below-given questions using at least one of the following: \n",
    "\n",
    "#1. Lambda function\n",
    "#2. Filter function\n",
    "#3. Zap function\n",
    "#4. List Comprehension\n",
    "\n",
    "# Check if the string starts with a particular letter\n",
    "# Check if the string is numeric\n",
    "# Sort a list of tuples having fruit names and their quantity. [(\"mango\",99),\n",
    "#(\"orange\",80), (\"grapes\", 1000)\n",
    "# Find the squares of numbers from 1 to 10\n",
    "# Find the cube root of numbers from 1 to 10\n",
    "# Check if a given number is even\n",
    "# Filter odd numbers from the given list.\n",
    "\n",
    " #[1,2,3,4,5,6,7,8,9,10]\n",
    "#Sort a list of integers into positive and negative integers lists.\n",
    "\n",
    "# [1,2,3,4,5,6,-1,-2,-3,-4,-5,0]"
   ]
  },
  {
   "cell_type": "code",
   "execution_count": 24,
   "id": "29cb4721",
   "metadata": {},
   "outputs": [
    {
     "name": "stdout",
     "output_type": "stream",
     "text": [
      "False\n"
     ]
    }
   ],
   "source": [
    "#Check if the string starts with a particular letter:\n",
    "\n",
    "string = \"Hello, world!\"\n",
    "letter = \"o\"\n",
    "result = string.startswith(letter)\n",
    "print(result)"
   ]
  },
  {
   "cell_type": "code",
   "execution_count": 27,
   "id": "9178bb26",
   "metadata": {},
   "outputs": [
    {
     "name": "stdout",
     "output_type": "stream",
     "text": [
      "False\n"
     ]
    }
   ],
   "source": [
    "#Check if the string is numeric:\n",
    "string = \"1saal\"\n",
    "result = string.isnumeric()\n",
    "print(result)"
   ]
  },
  {
   "cell_type": "code",
   "execution_count": 28,
   "id": "c2aa08ac",
   "metadata": {},
   "outputs": [
    {
     "name": "stdout",
     "output_type": "stream",
     "text": [
      "[('orange', 80), ('mango', 99), ('grapes', 1000)]\n"
     ]
    }
   ],
   "source": [
    "#Sort a list of tuples having fruit names and their quantity:\n",
    "\n",
    "fruits = [(\"mango\", 99), (\"orange\", 80), (\"grapes\", 1000)]\n",
    "sorted_fruits = sorted(fruits, key=lambda x: x[1])\n",
    "print(sorted_fruits)  # [('orange', 80), ('mango', 99), ('grapes', 1000)]\n"
   ]
  },
  {
   "cell_type": "code",
   "execution_count": 31,
   "id": "c53b5fe7",
   "metadata": {},
   "outputs": [
    {
     "name": "stdout",
     "output_type": "stream",
     "text": [
      "[1, 4, 9, 16, 25, 36, 49, 64, 81, 100]\n"
     ]
    }
   ],
   "source": [
    "# Find the squares of numbers from 1 to 10:\n",
    "\n",
    "square= [x**2 for x in range (1,11)]\n",
    "print(square)"
   ]
  },
  {
   "cell_type": "code",
   "execution_count": 32,
   "id": "50dd2bfd",
   "metadata": {},
   "outputs": [
    {
     "name": "stdout",
     "output_type": "stream",
     "text": [
      "[1.0, 1.2599210498948732, 1.4422495703074083, 1.5874010519681994, 1.7099759466766968, 1.8171205928321397, 1.912931182772389, 2.0, 2.080083823051904, 2.154434690031884]\n"
     ]
    }
   ],
   "source": [
    "#Find the cube root of numbers from 1 to 10:\n",
    "\n",
    "import math\n",
    "cube_root = [ math.pow(x,1/3) for x in range (1,11)]\n",
    "print (cube_root)"
   ]
  },
  {
   "cell_type": "code",
   "execution_count": 34,
   "id": "717262f9",
   "metadata": {},
   "outputs": [
    {
     "name": "stdout",
     "output_type": "stream",
     "text": [
      "False\n"
     ]
    }
   ],
   "source": [
    "#Check if a given number is even:\n",
    "\n",
    "number =11\n",
    "is_even = number %2 ==0\n",
    "print(is_even)"
   ]
  },
  {
   "cell_type": "code",
   "execution_count": 35,
   "id": "813e15c6",
   "metadata": {},
   "outputs": [
    {
     "name": "stdout",
     "output_type": "stream",
     "text": [
      "[1, 3, 5, 7, 9]\n"
     ]
    }
   ],
   "source": [
    "#Filter odd numbers from the given list:\n",
    "num = [1,2,3,4,5,6,7,8,9,10]\n",
    "\n",
    "odd_number = list(filter(lambda x: x%2!=0,num))\n",
    "print(odd_number)\n"
   ]
  },
  {
   "cell_type": "code",
   "execution_count": 37,
   "id": "30d372f9",
   "metadata": {},
   "outputs": [
    {
     "name": "stdout",
     "output_type": "stream",
     "text": [
      "[1, 21, 3, 4, 50, 6]\n",
      "[-1, -2, -10, -4, -5]\n"
     ]
    }
   ],
   "source": [
    "#Sort a list of integers into positive and negative integers lists.\n",
    "\n",
    "numbers = [1,21,3,4,50,6,-1,-2,-10,-4,-5,0]\n",
    "\n",
    "positive_number = list(filter(lambda x: x>0,numbers))\n",
    "negative_number = list(filter(lambda x:x<0,numbers))\n",
    "\n",
    "print(positive_number)\n",
    "print(negative_number)"
   ]
  },
  {
   "cell_type": "code",
   "execution_count": null,
   "id": "ad9cd334",
   "metadata": {},
   "outputs": [],
   "source": []
  }
 ],
 "metadata": {
  "kernelspec": {
   "display_name": "Python 3 (ipykernel)",
   "language": "python",
   "name": "python3"
  },
  "language_info": {
   "codemirror_mode": {
    "name": "ipython",
    "version": 3
   },
   "file_extension": ".py",
   "mimetype": "text/x-python",
   "name": "python",
   "nbconvert_exporter": "python",
   "pygments_lexer": "ipython3",
   "version": "3.9.13"
  }
 },
 "nbformat": 4,
 "nbformat_minor": 5
}
