{
 "cells": [
  {
   "cell_type": "code",
   "execution_count": 40,
   "id": "9a042763",
   "metadata": {},
   "outputs": [
    {
     "data": {
      "text/plain": [
       "' \\nthe function used to open a file is typically called as \"open()\" .\\nThe open() function allow to interact with the files in various modes.\\n\\nThe differnt modes of openning are \\n\\n1) read mode(\\'r\\') :\\nthis is defult mode when you open a file. It allows you to read the content of \\nfile . if the file does not exist , an error is occur.\\n\\n2)Write mode(\\'w\\'):\\nThis mode is used to write data to a file. If the file does not exixt then it \\ncreate a new file. If the file alredy exist then it content will be truncated\\nor cleared before writting.\\n\\n3)Append mode(\\'a\\'):\\nappend mode allows you to add new data at the end of an existing file. if the \\ndata doesn\\'t exist, then new file will be created . here the data in file not \\nget cleared like write mode .\\n\\n4) Binary Mode (\\'b\\'):\\nbinary mode is used in conjunction with the other modes to specify that the file\\nshould be open in binary format. it is often used for non text data like image \\nor binary data.\\n\\'rb\\' is used for reading binary data and \\'wb\\' is used for writting binary data.\\n\\n5) Read and write Mode(\\'r+\\'):\\nthe mode allows to read and write to a file. it open file for reading and writting\\nIn which data doesn\\'t get truncate the file. the file pointer is initially at the \\nbeginning of the file.\\n\\n6)Write and Read mode (\\'w+\\'): \\nWrite and read mode is similar to read and write mode (\\'r+\\'), but it truncates \\nthe file before opening. If the file does not exist, a new file will be created.\\n\\n7)Append and Read mode (\\'a+\\'): \\nAppend and read mode is similar to append mode (\\'a\\'), but it also allows reading\\nfrom the file. The file pointer is positioned at the end of the file, and new \\ndata is added at the end when writing.\\n\\n'"
      ]
     },
     "execution_count": 40,
     "metadata": {},
     "output_type": "execute_result"
    }
   ],
   "source": [
    "#Q1. Which function is used to open a file? What are the different modes of \n",
    "#opening a file? Explain each mode of file opening\n",
    "\n",
    "''' \n",
    "the function used to open a file is typically called as \"open()\" .\n",
    "The open() function allow to interact with the files in various modes.\n",
    "\n",
    "The differnt modes of openning are \n",
    "\n",
    "1) read mode('r') :\n",
    "this is defult mode when you open a file. It allows you to read the content of \n",
    "file . if the file does not exist , an error is occur.\n",
    "\n",
    "2)Write mode('w'):\n",
    "This mode is used to write data to a file. If the file does not exixt then it \n",
    "create a new file. If the file alredy exist then it content will be truncated\n",
    "or cleared before writting.\n",
    "\n",
    "3)Append mode('a'):\n",
    "append mode allows you to add new data at the end of an existing file. if the \n",
    "data doesn't exist, then new file will be created . here the data in file not \n",
    "get cleared like write mode .\n",
    "\n",
    "4) Binary Mode ('b'):\n",
    "binary mode is used in conjunction with the other modes to specify that the file\n",
    "should be open in binary format. it is often used for non text data like image \n",
    "or binary data.\n",
    "'rb' is used for reading binary data and 'wb' is used for writting binary data.\n",
    "\n",
    "5) Read and write Mode('r+'):\n",
    "the mode allows to read and write to a file. it open file for reading and writting\n",
    "In which data doesn't get truncate the file. the file pointer is initially at the \n",
    "beginning of the file.\n",
    "\n",
    "6)Write and Read mode ('w+'): \n",
    "Write and read mode is similar to read and write mode ('r+'), but it truncates \n",
    "the file before opening. If the file does not exist, a new file will be created.\n",
    "\n",
    "7)Append and Read mode ('a+'): \n",
    "Append and read mode is similar to append mode ('a'), but it also allows reading\n",
    "from the file. The file pointer is positioned at the end of the file, and new \n",
    "data is added at the end when writing.\n",
    "\n",
    "'''"
   ]
  },
  {
   "cell_type": "code",
   "execution_count": 41,
   "id": "dd02dcf7",
   "metadata": {},
   "outputs": [
    {
     "data": {
      "text/plain": [
       "'\\nthe \\'close()\\' function is used in python to close a file that has been opened \\nusing the \"open()\" function.\\nit is important to close a fil after you are done working cause\\n\\n1) Resource Management :\\nwhen you open a file , the operating system allocates certain resources to \\nhandle the i/o operations associated with that file. These resources include \\nmemory buffers , file descriptors , and other system _level structurs. \\nif you not close file properly , these resources may not be realesed imediately,\\nlewading to reasours leaks. closing the file ensures that these resourse are \\nfreed up , allowing other processes or programs to use them.\\n\\n2)Data Integrity:\\nWhen you write or modify a file, the changes are typically stored in memory \\nbuffers and are not immediately flushed to the underlying storage. If you don\\'t \\nclose the file properly, the buffered data may not be written to the disk, \\nresulting in data loss or inconsistency. Closing the file flushes the buffers \\nand ensures that all the data is written to the storage.\\n\\n3) Concurrency:\\n In some cases, if you don\\'t close a file properly, it may remain locked by your\\n Python process. This can cause issues if another process or program wants to \\naccess or modify the same file. Closing the file releases the lock, allowing \\nother processes to access it.\\n\\nAlternatively,we can use the with statement, which automatically takes care of\\nclosing the file.\\nUsing the with statement is considered a best practice in Python because it \\nensures that the file is always properly closed, even if an exception occurs \\nwithin the block of code.\\n'"
      ]
     },
     "execution_count": 41,
     "metadata": {},
     "output_type": "execute_result"
    }
   ],
   "source": [
    "#Q2. Why close() function is used? Why is it important to close a file ?\n",
    "'''\n",
    "the 'close()' function is used in python to close a file that has been opened \n",
    "using the \"open()\" function.\n",
    "it is important to close a fil after you are done working cause\n",
    "\n",
    "1) Resource Management :\n",
    "when you open a file , the operating system allocates certain resources to \n",
    "handle the i/o operations associated with that file. These resources include \n",
    "memory buffers , file descriptors , and other system _level structurs. \n",
    "if you not close file properly , these resources may not be realesed imediately,\n",
    "lewading to reasours leaks. closing the file ensures that these resourse are \n",
    "freed up , allowing other processes or programs to use them.\n",
    "\n",
    "2)Data Integrity:\n",
    "When you write or modify a file, the changes are typically stored in memory \n",
    "buffers and are not immediately flushed to the underlying storage. If you don't \n",
    "close the file properly, the buffered data may not be written to the disk, \n",
    "resulting in data loss or inconsistency. Closing the file flushes the buffers \n",
    "and ensures that all the data is written to the storage.\n",
    "\n",
    "3) Concurrency:\n",
    " In some cases, if you don't close a file properly, it may remain locked by your\n",
    " Python process. This can cause issues if another process or program wants to \n",
    "access or modify the same file. Closing the file releases the lock, allowing \n",
    "other processes to access it.\n",
    "\n",
    "Alternatively,we can use the with statement, which automatically takes care of\n",
    "closing the file.\n",
    "Using the with statement is considered a best practice in Python because it \n",
    "ensures that the file is always properly closed, even if an exception occurs \n",
    "within the block of code.\n",
    "'''"
   ]
  },
  {
   "cell_type": "code",
   "execution_count": 42,
   "id": "7008893d",
   "metadata": {},
   "outputs": [],
   "source": [
    "#Q3. Write a python program to create a text file. Write ‘I want to become a\n",
    "#Data Scientist’ in that file. Then close the file. Open this file and read \n",
    "#the content of the file. \n",
    "\n",
    "import io"
   ]
  },
  {
   "cell_type": "code",
   "execution_count": 43,
   "id": "ce20d8dd",
   "metadata": {},
   "outputs": [
    {
     "name": "stdout",
     "output_type": "stream",
     "text": [
      "I want to become a Data Scientist .\n",
      "\n"
     ]
    }
   ],
   "source": [
    "with open (\"file_assignment.txt\",\"w\") as file: # text file created\n",
    "    \n",
    "    file.write(\"I want to become a Data Scientist .\\n\")\n",
    "    file.close()# here is no requirement of use close becoz in with it \n",
    "                 #automatically get used \n",
    "\n",
    "with open(\"file_assignment.txt\",\"r\") as f:\n",
    "    print(f.read()) #the data in txt file get read."
   ]
  },
  {
   "cell_type": "code",
   "execution_count": 44,
   "id": "35ec9dc7",
   "metadata": {},
   "outputs": [],
   "source": [
    "#Q4. Explain the following with python code: read(), readline() and readlines().\n",
    "import io"
   ]
  },
  {
   "cell_type": "code",
   "execution_count": 45,
   "id": "c20cb267",
   "metadata": {},
   "outputs": [],
   "source": [
    "with open (\"file_assignment.txt\",\"a\") as file: # text file created\n",
    "    \n",
    "    file.write(\"hiii \\n\")\n",
    "    file.write(\"my name is sangram lembe. \\n\")\n",
    "    file.write(\"i am final year student \\n\")\n",
    "    \n"
   ]
  },
  {
   "cell_type": "code",
   "execution_count": 46,
   "id": "5343cb5d",
   "metadata": {},
   "outputs": [
    {
     "name": "stdout",
     "output_type": "stream",
     "text": [
      "['I want to become a Data Scientist .\\n', 'hiii \\n', 'my name is sangram lembe. \\n', 'i am final year student \\n']\n"
     ]
    }
   ],
   "source": [
    "\n",
    "with open(\"file_assignment.txt\",\"r\") as f:\n",
    "    #print(f.read()) #the data in txt file get read.\n",
    "    #print(f.readline())\n",
    "    print(f.readlines())"
   ]
  },
  {
   "cell_type": "code",
   "execution_count": 47,
   "id": "2cd9bea9",
   "metadata": {},
   "outputs": [
    {
     "data": {
      "text/plain": [
       "\" \\nthe 'with' statement in python is used in conjuction with 'open' function to\\nensure proper management of resources , specially when working with file i\\x00 \\noperations . \\n\\nadvantages:\\n1) Automatic Resource Management:\\nwhen we use the 'with' with 'open'.it will take care of automatically closing \\nfile .this previent resource leaks and ensuring file is properly close.\\n\\n2) Exception Handling:\\nThe with statement also provides built-in exception handling. If an exception \\noccurs within the with block, the file will still be closed properly, ensuring \\nthat resources are released. This saves you from writing additional exception \\nhandling code to ensure file closure in case of errors.\\n\\n3)Cleaner and Readable Code: \\nBy using the with statement, your code becomes cleaner and more readable. The \\nfile operations are confined within the with block, making it clear where the \\nfile is being accessed and ensuring that it is closed at the appropriate time.\\n\\n4)Concurrency and Locking: When you open a file, it may be locked by your Python\\nprocess, preventing other processes from accessing or modifying it. The with \\nstatement automatically releases the lock when the block of code is exited, \\nallowing other processes to access the file.\\n\\n using the with statement with open() provides automatic resource management, \\n exception handling, cleaner code structure, and ensures proper file closure. \\n It simplifies file operations and helps prevent common issues such as resource \\n leaks and data inconsistencies. It is considered a best practice when working \\n with file I/O in Python.\\n\""
      ]
     },
     "execution_count": 47,
     "metadata": {},
     "output_type": "execute_result"
    }
   ],
   "source": [
    "#Q5. Explain why with statement is used with open(). What is the advantage of \n",
    "#using with statement and open() together?\n",
    "''' \n",
    "the 'with' statement in python is used in conjuction with 'open' function to\n",
    "ensure proper management of resources , specially when working with file i\\0 \n",
    "operations . \n",
    "\n",
    "advantages:\n",
    "1) Automatic Resource Management:\n",
    "when we use the 'with' with 'open'.it will take care of automatically closing \n",
    "file .this previent resource leaks and ensuring file is properly close.\n",
    "\n",
    "2) Exception Handling:\n",
    "The with statement also provides built-in exception handling. If an exception \n",
    "occurs within the with block, the file will still be closed properly, ensuring \n",
    "that resources are released. This saves you from writing additional exception \n",
    "handling code to ensure file closure in case of errors.\n",
    "\n",
    "3)Cleaner and Readable Code: \n",
    "By using the with statement, your code becomes cleaner and more readable. The \n",
    "file operations are confined within the with block, making it clear where the \n",
    "file is being accessed and ensuring that it is closed at the appropriate time.\n",
    "\n",
    "4)Concurrency and Locking: When you open a file, it may be locked by your Python\n",
    "process, preventing other processes from accessing or modifying it. The with \n",
    "statement automatically releases the lock when the block of code is exited, \n",
    "allowing other processes to access the file.\n",
    "\n",
    " using the with statement with open() provides automatic resource management, \n",
    " exception handling, cleaner code structure, and ensures proper file closure. \n",
    " It simplifies file operations and helps prevent common issues such as resource \n",
    " leaks and data inconsistencies. It is considered a best practice when working \n",
    " with file I/O in Python.\n",
    "'''"
   ]
  },
  {
   "cell_type": "code",
   "execution_count": 48,
   "id": "d5c386c7",
   "metadata": {},
   "outputs": [],
   "source": [
    "#Q6. Explain the write() and writelines() functions. Give a suitable example.\n",
    "\n",
    "\"\"\" \n",
    "'write()' and 'writelines()' function are used to write data to a file.\n",
    "the 'write ()' function is used to write a single sting of data to file. It \n",
    "takes a string as an argument and writes it to the current file position.\n",
    " If it does exist, the data will be appended to the end of the file by default,\n",
    " unless the file was opened in \"write\" mode (\"w\"), in which case the existing \n",
    " contents of the file will be overwritten.\n",
    " \n",
    "The writelines() function, on the other hand, is used to write a sequence of \n",
    "strings to a file. It takes an iterable (e.g., a list, tuple, or generator) of \n",
    "strings as its argument. Each string in the iterable is written to the file \n",
    "without any additional formatting or line termination.\n",
    "\"\"\"\n",
    "\n",
    "file_name =\"file_assignment1.txt\"\n",
    "with open (file_name,\"w\") as file:\n",
    "    file.write(\"this is 1st line\")\n",
    "    file.write(\"this is 2nd line\")\n",
    "    file.write(\"this is 3rd line\")\n",
    "\n"
   ]
  },
  {
   "cell_type": "code",
   "execution_count": 49,
   "id": "4eefa7cf",
   "metadata": {},
   "outputs": [
    {
     "name": "stdout",
     "output_type": "stream",
     "text": [
      "I want to become a Data Scientist .\n",
      "hiii \n",
      "my name is sangram lembe. \n",
      "i am final year student \n",
      "\n"
     ]
    }
   ],
   "source": [
    "file_name =\"file_assignment2.txt\"\n",
    "lines = [\n",
    "    \"this is 1st row\\n \",\"this is my 2nd row \\n\",\"this is my 3rd row\\n\"]\n",
    "with open(file_name,\"w\") as file:\n",
    "    file.writelines(lines)\n",
    "    \n",
    "    \n",
    "with open(\"file_assignment.txt\",\"r\") as file:\n",
    "    print(file.read()    )\n",
    "    "
   ]
  },
  {
   "cell_type": "code",
   "execution_count": null,
   "id": "8a3b5654",
   "metadata": {},
   "outputs": [],
   "source": []
  },
  {
   "cell_type": "code",
   "execution_count": null,
   "id": "8315614d",
   "metadata": {},
   "outputs": [],
   "source": []
  },
  {
   "cell_type": "code",
   "execution_count": null,
   "id": "3c189f8b",
   "metadata": {},
   "outputs": [],
   "source": []
  },
  {
   "cell_type": "code",
   "execution_count": null,
   "id": "3e22dfb4",
   "metadata": {},
   "outputs": [],
   "source": []
  }
 ],
 "metadata": {
  "kernelspec": {
   "display_name": "Python 3 (ipykernel)",
   "language": "python",
   "name": "python3"
  },
  "language_info": {
   "codemirror_mode": {
    "name": "ipython",
    "version": 3
   },
   "file_extension": ".py",
   "mimetype": "text/x-python",
   "name": "python",
   "nbconvert_exporter": "python",
   "pygments_lexer": "ipython3",
   "version": "3.9.13"
  }
 },
 "nbformat": 4,
 "nbformat_minor": 5
}
