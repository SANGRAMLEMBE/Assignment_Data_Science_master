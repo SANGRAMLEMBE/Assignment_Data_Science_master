{
 "cells": [
  {
   "cell_type": "code",
   "execution_count": 6,
   "id": "86822044",
   "metadata": {},
   "outputs": [
    {
     "name": "stdout",
     "output_type": "stream",
     "text": [
      "[1, 3, 5, 7, 9, 11, 13, 15, 17, 19, 21, 23, 25]\n"
     ]
    }
   ],
   "source": [
    "# 1) which keyword is used to create a function ? create a function to return a \n",
    "#list of odd numbers in the range of 1 to 25\n",
    "\n",
    "# ans : the 'def' keyword is used in python to create a function.\n",
    "def odd_number():\n",
    "    odds=[]\n",
    "    for i in range(1,26):\n",
    "        if i%2!=0:\n",
    "            odds.append(i)\n",
    "    return odds\n",
    "print(odd_number())"
   ]
  },
  {
   "cell_type": "code",
   "execution_count": 14,
   "id": "4512fea7",
   "metadata": {},
   "outputs": [
    {
     "name": "stdout",
     "output_type": "stream",
     "text": [
      "sangram\n",
      "jeevan\n",
      "prathamesh\n",
      "first apple\n",
      "second banana\n",
      "third cherry\n"
     ]
    }
   ],
   "source": [
    "# Why *args and **kwargs is used in some functions? Create a function each for \n",
    "#*args and **kwargs to demonstrate their use.\n",
    "\n",
    "# in python *args and **kwarges are used to pass a variable number of arguments\n",
    "#to a function\n",
    "#*args is used to pass a variable number of non-keyword arguments to a function.\n",
    "\n",
    "\n",
    "def my_function(*args):\n",
    "    for arg in args:\n",
    "        print(arg)\n",
    "my_function('sangram','jeevan','prathamesh')\n",
    "\n",
    "# **kwargs is used to pass a variable number of keyword arguments to a function.\n",
    "def my_function(**kwargs):\n",
    "    for key, value in kwargs.items():\n",
    "        print(key,value)\n",
    "my_function(first='apple',second='banana',third='cherry')"
   ]
  },
  {
   "cell_type": "code",
   "execution_count": 23,
   "id": "06fa13b3",
   "metadata": {},
   "outputs": [
    {
     "name": "stdout",
     "output_type": "stream",
     "text": [
      "2\n",
      "4\n",
      "6\n",
      "8\n",
      "10\n"
     ]
    }
   ],
   "source": [
    "#What is an iterator in python? Name the method used to initialise the iterator\n",
    "#object and the method used for iteration. Use these methods to print the first\n",
    "#five elements of the given list [2, 4, 6, 8, 10, 12, 14, 16, 18, 20]\n",
    "\n",
    "\n",
    "'''  In python , an iterator is an object that implement the iterator protocol,\n",
    "which cansists of the methods _iter()_ or _next()_ . an iterator is an object\n",
    "that can be iterted (looped) upon. it is used to return an elements at a time \n",
    "from a collection of elements\n",
    "\n",
    "to initialize an iterator objects,we can use iter() method. the iter() method \n",
    "return an iterator object.\n",
    "to iterate over the elements of an iterator objects, we can use the next() method\n",
    "the next() method returns the next element in the iterator '''\n",
    "\n",
    "my_list=[2, 4, 6, 8, 10, 12, 14, 16, 18, 20]\n",
    "my_iterator =iter(my_list)\n",
    "\n",
    "for i in range(5):\n",
    "    print(next(my_iterator))"
   ]
  },
  {
   "cell_type": "code",
   "execution_count": 24,
   "id": "42a51eea",
   "metadata": {},
   "outputs": [
    {
     "name": "stdout",
     "output_type": "stream",
     "text": [
      "1\n",
      "3\n",
      "5\n",
      "7\n",
      "9\n",
      "11\n",
      "13\n",
      "15\n",
      "17\n",
      "19\n"
     ]
    }
   ],
   "source": [
    "'''\n",
    "\n",
    "In Python, a generator function is a special type of function that returns an\n",
    "iterator object with a sequence of values . A generator function is defined like\n",
    "a normal function, but instead of the return statement, it uses the yield \n",
    "statement to produce a value from the generator . The yield keyword converts \n",
    "the expression given into a generator function that gives back a generator \n",
    "object .\n",
    "\n",
    "The yield keyword is used to return a value from the generator function without\n",
    "destroying the state of the generator . When the yield statement is executed, \n",
    "the current state of the generator function is saved. The next time the\n",
    "generator function is called, execution resumes from where it left off'''\n",
    "\n",
    "def odd_numbers(n):\n",
    "    for i in range(n):\n",
    "        if i %2!=0:\n",
    "            yield i\n",
    "my_genrater = odd_numbers(20)\n",
    "for i in my_genrater:\n",
    "    print(i)\n"
   ]
  },
  {
   "cell_type": "code",
   "execution_count": null,
   "id": "f6c28191",
   "metadata": {},
   "outputs": [],
   "source": [
    "\n",
    "            \n",
    "    "
   ]
  },
  {
   "cell_type": "code",
   "execution_count": 35,
   "id": "1226990e",
   "metadata": {},
   "outputs": [
    {
     "name": "stdout",
     "output_type": "stream",
     "text": [
      "2\n",
      "3\n",
      "5\n",
      "7\n",
      "11\n",
      "13\n",
      "17\n",
      "19\n",
      "23\n",
      "29\n",
      "31\n",
      "37\n",
      "41\n",
      "43\n",
      "47\n",
      "53\n",
      "59\n",
      "61\n",
      "67\n",
      "71\n"
     ]
    }
   ],
   "source": [
    "#Create a generator function for prime numbers less than 1000. Use the next()\n",
    "#method to print the first 20 prime numbers\n",
    "def prime_numbers():\n",
    "    num = 2\n",
    "    while True:\n",
    "        for i in range(2, num):\n",
    "            if num % i == 0:\n",
    "                break\n",
    "        else:\n",
    "            yield num\n",
    "        num += 1\n",
    "\n",
    "my_generator = prime_numbers()\n",
    "\n",
    "for i in range(20):\n",
    "    print(next(my_generator))\n"
   ]
  },
  {
   "cell_type": "code",
   "execution_count": 38,
   "id": "a459da21",
   "metadata": {},
   "outputs": [
    {
     "name": "stdout",
     "output_type": "stream",
     "text": [
      "0\n",
      "1\n",
      "1\n",
      "2\n",
      "3\n",
      "5\n",
      "8\n",
      "13\n",
      "21\n",
      "34\n"
     ]
    }
   ],
   "source": [
    "#Write a python program to print the first 10 Fibonacci numbers using a whileloop.\n",
    "\n",
    "a=0\n",
    "b=1 \n",
    "count = 0\n",
    "while count < 10:\n",
    "        \n",
    "        print(a)\n",
    "        c = a + b\n",
    "        a = b\n",
    "        b = c\n",
    "        count += 1"
   ]
  },
  {
   "cell_type": "code",
   "execution_count": 40,
   "id": "550d594d",
   "metadata": {},
   "outputs": [
    {
     "name": "stdout",
     "output_type": "stream",
     "text": [
      "['p', 'w', 's', 'k', 'i', 'l', 'l', 's']\n"
     ]
    }
   ],
   "source": [
    "#Write a List Comprehension to iterate through the given string: ‘pwskills’.\n",
    "\n",
    "string = 'pwskills'\n",
    "list =[char for char in string]\n",
    "print(list)"
   ]
  },
  {
   "cell_type": "code",
   "execution_count": 45,
   "id": "96fb4fb9",
   "metadata": {},
   "outputs": [
    {
     "name": "stdout",
     "output_type": "stream",
     "text": [
      "enter a number: 101\n",
      "101 is a palindrome\n"
     ]
    }
   ],
   "source": [
    "#Write a python program to check whether a given number is Palindrome or \n",
    "#not using a while loop\n",
    "\n",
    "num = int(input(\"enter a number: \"))\n",
    "temp =num\n",
    "\n",
    "reverse_num=0\n",
    "\n",
    "          \n",
    "while temp > 0:\n",
    "          remainder = temp%10\n",
    "          reverse_num=(reverse_num*10)+remainder\n",
    "          temp = temp//10\n",
    "if num ==reverse_num:\n",
    "          print(num,\"is a palindrome\")\n",
    "else:\n",
    "          print(num,\"is not palindrome\")\n",
    "          \n"
   ]
  },
  {
   "cell_type": "code",
   "execution_count": 46,
   "id": "f3264fe0",
   "metadata": {},
   "outputs": [
    {
     "name": "stdout",
     "output_type": "stream",
     "text": [
      "[1, 3, 5, 7, 9, 11, 13, 15, 17, 19, 21, 23, 25, 27, 29, 31, 33, 35, 37, 39, 41, 43, 45, 47, 49, 51, 53, 55, 57, 59, 61, 63, 65, 67, 69, 71, 73, 75, 77, 79, 81, 83, 85, 87, 89, 91, 93, 95, 97, 99]\n"
     ]
    }
   ],
   "source": [
    "#Write a code to print odd numbers from 1 to 100 using list comprehension.\n",
    "\n",
    "odd_number =[num for  num in range (1, 101) if num % 2!=0]\n",
    "print(odd_number)\n",
    "    \n"
   ]
  },
  {
   "cell_type": "code",
   "execution_count": null,
   "id": "7b736af6",
   "metadata": {},
   "outputs": [],
   "source": []
  }
 ],
 "metadata": {
  "kernelspec": {
   "display_name": "Python 3 (ipykernel)",
   "language": "python",
   "name": "python3"
  },
  "language_info": {
   "codemirror_mode": {
    "name": "ipython",
    "version": 3
   },
   "file_extension": ".py",
   "mimetype": "text/x-python",
   "name": "python",
   "nbconvert_exporter": "python",
   "pygments_lexer": "ipython3",
   "version": "3.9.13"
  }
 },
 "nbformat": 4,
 "nbformat_minor": 5
}
