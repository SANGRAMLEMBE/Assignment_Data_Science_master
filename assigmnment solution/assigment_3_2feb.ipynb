{
 "cells": [
  {
   "cell_type": "code",
   "execution_count": 10,
   "id": "c96a33e0",
   "metadata": {
    "scrolled": true
   },
   "outputs": [
    {
     "name": "stdout",
     "output_type": "stream",
     "text": [
      "1\n",
      "2\n",
      "3\n",
      "4\n",
      "5\n"
     ]
    }
   ],
   "source": [
    "#1] Explain with an example each when to use a for loop and a while loop\n",
    "\n",
    "'''for loop:\n",
    "A for loop is typically used when you know the number of iterations in \n",
    "advance or when you want to iterate over a sequence of elements. \n",
    "\n",
    "# Example: Printing numbers using a for loop'''\n",
    "\n",
    "for i in range(1, 6):\n",
    "    print(i)\n",
    "    \n",
    "#In this example, the for loop is used to iterate over the numbers from 1 to 5.\n",
    "#The loop runs for a known number of iterations, which is determined by the \n",
    "#range function. Each iteration, the value of i increases by 1, and it is\n",
    "#printed to the console. The loop will execute five times and output the\n",
    "#numbers 1 to 5.\n",
    "\n"
   ]
  },
  {
   "cell_type": "code",
   "execution_count": 11,
   "id": "0736a277",
   "metadata": {},
   "outputs": [
    {
     "name": "stdout",
     "output_type": "stream",
     "text": [
      "5\n",
      "4\n",
      "3\n",
      "2\n",
      "1\n"
     ]
    }
   ],
   "source": [
    "'''while loop:\n",
    "A while loop is useful when you don't know the number of iterations in advance\n",
    "and want to continue executing a block of code until a certain condition\n",
    "becomes false. \n",
    "\n",
    "# Example : Countdown using a while loop'''\n",
    "\n",
    "count = 5\n",
    "while count > 0:\n",
    "    print(count)\n",
    "    count -= 1\n",
    "    \n",
    "#In this example, the while loop is used to create a countdown.\n",
    "#The loop continues executing as long as the condition count > 0 is true. \n",
    "#In each iteration, the value of count is printed, and then it decreases by 1.\n",
    "#The loop will execute five times, printing the numbers 5 to 1.\n",
    "\n"
   ]
  },
  {
   "cell_type": "code",
   "execution_count": 75,
   "id": "90e7dd79",
   "metadata": {},
   "outputs": [
    {
     "name": "stdout",
     "output_type": "stream",
     "text": [
      "1 1 1\n",
      "2 3 2\n",
      "3 6 6\n",
      "4 10 24\n",
      "5 15 120\n",
      "6 21 720\n",
      "7 28 5040\n",
      "8 36 40320\n",
      "9 45 362880\n",
      "10 55 3628800\n"
     ]
    }
   ],
   "source": [
    "# 2] Write a python program to print the sum and product of the first 10 natural \n",
    "#numbers using for and while loop.\n",
    "sum =0\n",
    "product =1\n",
    "for i in range(1,11):\n",
    "    sum = sum +i\n",
    "    product= product*i\n",
    "    print(i,sum , product)\n",
    "    \n"
   ]
  },
  {
   "cell_type": "code",
   "execution_count": 90,
   "id": "5ae732f9",
   "metadata": {},
   "outputs": [
    {
     "name": "stdout",
     "output_type": "stream",
     "text": [
      "1 1 1\n",
      "2 3 2\n",
      "3 6 6\n",
      "4 10 24\n",
      "5 15 120\n",
      "6 21 720\n",
      "7 28 5040\n",
      "8 36 40320\n",
      "9 45 362880\n",
      "10 55 3628800\n"
     ]
    }
   ],
   "source": [
    "k=1\n",
    "sum=0\n",
    "pdt=1\n",
    "while k<11:\n",
    "    sum = sum +k\n",
    "    pdt = pdt * k\n",
    "    print(k,sum , pdt)\n",
    "\n",
    "    k+=1"
   ]
  },
  {
   "cell_type": "code",
   "execution_count": 42,
   "id": "653618f5",
   "metadata": {},
   "outputs": [
    {
     "name": "stdout",
     "output_type": "stream",
     "text": [
      "Enter the units of electricity consumed in a month: 310\n",
      "Total electricity bill: Rs. 2250.0\n"
     ]
    }
   ],
   "source": [
    "#Q3. Create a python program to compute the electricity bill for a household.\n",
    "#The per-unit charges in rupees are as follows: For the first 100 units, the\n",
    "#user will be charged Rs. 4.5 per unit, for the next 100 units, the user will \n",
    "#be charged Rs. 6 per unit, and for the next 100 units, the user will be charged\n",
    "#Rs. 10 per unit, After 300 units and above the user will be charged Rs. 20 per unit.\n",
    "\n",
    "#You are required to take the units of electricity consumed in a month from the\n",
    "#user as input.\n",
    "#Your program must pass this test case: when the unit of electricity consumed by the\n",
    "#user in a month is 310, the total electricity bill should be 2250.\n",
    "\n",
    "\n",
    "\n",
    "\n",
    "units_consumed = int(input(\"Enter the units of electricity consumed in a month: \"))\n",
    "\n",
    "total_bill = 0\n",
    "remaining_units = units_consumed\n",
    "\n",
    "# Calculate bill for the first 100 units\n",
    "for i in range(1, min(101, remaining_units + 1)):\n",
    "    total_bill += 4.5\n",
    "    remaining_units -= 1\n",
    "\n",
    "\n",
    "# Calculate bill for the next 100 units\n",
    "for i in range(1, min(101, remaining_units + 1)):\n",
    "    total_bill += 6\n",
    "    remaining_units -= 1\n",
    "\n",
    "\n",
    "# Calculate bill for the next 100 units\n",
    "for i in range(1, min(101, remaining_units + 1)):\n",
    "    total_bill += 10\n",
    "    remaining_units -= 1\n",
    "\n",
    "# Calculate bill for the remaining units (above 300)\n",
    "for i in range(1, remaining_units + 1):\n",
    "    total_bill += 20\n",
    "\n",
    "print(\"Total electricity bill: Rs.\", total_bill)\n",
    "\n",
    "#The min() function is used to determine the minimum value between 101 and the \n",
    "#calculated value of remaining_units + 1. The purpose of using min() is to ensure \n",
    "#that the upper limit of the range does not exceed 100.\n",
    "#If remaining_units + 1 is less than or equal to 100, the min() function will \n",
    "#return the value of remaining_units + 1.\n",
    "#If remaining_units + 1 is greater than 100, the min() function will return 101.\n",
    "#Essentially, this expression ensures that the range of the for loop does not \n",
    "#exceed 100 iterations.\n",
    "\n",
    "        \n",
    "        \n",
    "\n",
    "        "
   ]
  },
  {
   "cell_type": "code",
   "execution_count": 71,
   "id": "c29565c3",
   "metadata": {},
   "outputs": [
    {
     "name": "stdout",
     "output_type": "stream",
     "text": [
      "[1, 2, 3, 4, 5, 6, 7, 8, 9, 10, 11, 12, 13, 14, 15, 16, 17, 18, 19, 20, 21, 22, 23, 24, 25, 26, 27, 28, 29, 30, 31, 32, 33, 34, 35, 36, 37, 38, 39, 40, 41, 42, 43, 44, 45, 46, 47, 48, 49, 50, 51, 52, 53, 54, 55, 56, 57, 58, 59, 60, 61, 62, 63, 64, 65, 66, 67, 68, 69, 70, 71, 72, 73, 74, 75, 76, 77, 78, 79, 80, 81, 82, 83, 84, 85, 86, 87, 88, 89, 90, 91, 92, 93, 94, 95, 96, 97, 98, 99, 100]\n",
      "[2, 4, 5, 6, 8, 10, 12, 14, 15, 16, 18, 20, 22, 24, 25, 26, 28, 30, 32, 34, 35, 36, 38, 40, 42, 44, 45, 46, 48, 50, 52, 54, 55, 56, 58, 60, 62, 64, 65, 66, 68, 70, 72, 74, 75, 76, 78, 80, 82, 84, 85, 86, 88, 90, 92, 94, 95, 96, 98, 100]\n"
     ]
    }
   ],
   "source": [
    "# Create a list of numbers from 1 to 100. Use for loop and while loop to calculate\n",
    "#the cube of each number and if the cube of that number is divisible by 4 or 5\n",
    "#then append that number in a list and print that list \n",
    "\n",
    "list=[]\n",
    "i=1\n",
    "while i<=100:\n",
    "    list.append(i)\n",
    "    i+=1\n",
    "print(list)\n",
    "    \n",
    "cubes_divisible_by_4_or_5 = []\n",
    "\n",
    "for num in list:\n",
    "    cube = num ** 3\n",
    "    if cube % 4 == 0 or cube % 5 == 0:\n",
    "        cubes_divisible_by_4_or_5.append(num)\n",
    "\n",
    "print(cubes_divisible_by_4_or_5)"
   ]
  },
  {
   "cell_type": "code",
   "execution_count": 73,
   "id": "b150bfcb",
   "metadata": {},
   "outputs": [
    {
     "name": "stdout",
     "output_type": "stream",
     "text": [
      "12\n"
     ]
    }
   ],
   "source": [
    "#write a program to filter count vowels in the below given string\n",
    "string =\"i want to become a data scientist\"\n",
    "\n",
    "count=0\n",
    "vowels=['a','e','i','o','u']\n",
    "for char in string:\n",
    "    if char in vowels:\n",
    "        count+=1\n",
    "print(count)\n",
    "\n"
   ]
  },
  {
   "cell_type": "code",
   "execution_count": null,
   "id": "2c5b974d",
   "metadata": {},
   "outputs": [],
   "source": [
    "\n"
   ]
  },
  {
   "cell_type": "code",
   "execution_count": null,
   "id": "a259e580",
   "metadata": {},
   "outputs": [],
   "source": []
  }
 ],
 "metadata": {
  "kernelspec": {
   "display_name": "Python 3 (ipykernel)",
   "language": "python",
   "name": "python3"
  },
  "language_info": {
   "codemirror_mode": {
    "name": "ipython",
    "version": 3
   },
   "file_extension": ".py",
   "mimetype": "text/x-python",
   "name": "python",
   "nbconvert_exporter": "python",
   "pygments_lexer": "ipython3",
   "version": "3.9.13"
  }
 },
 "nbformat": 4,
 "nbformat_minor": 5
}
